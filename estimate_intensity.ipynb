{
 "cells": [
  {
   "cell_type": "code",
   "execution_count": 1,
   "metadata": {},
   "outputs": [],
   "source": [
    "import numpy as np\n",
    "import astropy.units as u\n",
    "import astropy.constants as ac \n",
    "from astroquery.splatalogue import Splatalogue\n",
    "import astropy.units as u\n",
    "from helpers import generate_smart_table, LTEmodel, get_CDMS_partition_function\n",
    "\n",
    "ckms = ac.c.to(u.km/u.s).value\n"
   ]
  },
  {
   "cell_type": "code",
   "execution_count": 6,
   "metadata": {},
   "outputs": [
    {
     "name": "stdout",
     "output_type": "stream",
     "text": [
      "[1000.     500.     300.     225.     150.      75.      37.5     18.75\n",
      "    9.375    5.       2.725] [          nan           nan 2943.0659897  1907.65572399 1036.57325677\n",
      "  366.10022855  129.59850748   46.69818486   19.26193886   10.09485302\n",
      "    5.65718003]\n"
     ]
    },
    {
     "data": {
      "text/plain": [
       "{'HOCO+': <Table length=7>\n",
       " Species      QNs      nu0 [GHz]  logA [s^-1] Smu2 [D^2]   g_u    E_u [K] \n",
       "   str5      str13      float64     float64    float64   float64  float64 \n",
       " ------- ------------- ---------- ----------- ---------- ------- ---------\n",
       "   HOCO+ 4(1,4)-3(1,3) 85.1956703    -4.92098   14.99954     9.0   47.5663\n",
       "   HOCO+ 4(3,2)-3(3,1) 85.4663391    -5.24789    6.99898     9.0 342.47334\n",
       "   HOCO+ 4(3,2)-3(3,1) 85.4663391    -5.24789    6.99898     9.0 342.47334\n",
       "   HOCO+ 4(2,3)-3(2,2) 85.5022531    -5.01323    11.9991     9.0 158.98947\n",
       "   HOCO+ 4(2,2)-3(2,1) 85.5025062    -5.01323   11.99903     9.0 158.98949\n",
       "   HOCO+ 4(0,4)-3(0,3) 85.5315123    -4.88788   15.99727     9.0   10.2622\n",
       "   HOCO+ 4(1,3)-3(1,2) 85.8528576    -4.91095   15.00012     9.0  47.64517}"
      ]
     },
     "execution_count": 6,
     "metadata": {},
     "output_type": "execute_result"
    }
   ],
   "source": [
    "# lines of interest\n",
    "specie = [\n",
    "    \"HOCO+\"\n",
    "]  # spaces are needed to specify the particular ones\n",
    "\n",
    "# frequency range of interest \n",
    "nu_range = (80 * u.GHz, 100 * u.GHz)\n",
    "\n",
    "line_query = {}\n",
    "specie_id = {}\n",
    "pf = {}\n",
    "for s in specie:\n",
    "    if s == \"NH3\":\n",
    "        chemical_name = \" NH3 v=0 \"\n",
    "        pf_name = \"NH3-wHFS\"\n",
    "    else:\n",
    "        chemical_name = \"{:s}\".format(s)\n",
    "        pf_name = s\n",
    "    q = Splatalogue.query_lines(\n",
    "        *nu_range,\n",
    "        chemical_name=chemical_name,\n",
    "        line_lists=[\"JPL\"],\n",
    "        show_upper_degeneracy=True,\n",
    "        # line_strengths=[\"ls4\"],\n",
    "        # energy_type=\"eu_k\",\n",
    "    )\n",
    "    # id = Splatalogue.get_species_ids(chemical_name)\n",
    "    # specie_id[s] = id\n",
    "    line_query[s] = generate_smart_table(q)\n",
    "    pf[s] = get_CDMS_partition_function(pf_name)\n",
    "line_query"
   ]
  },
  {
   "cell_type": "code",
   "execution_count": 30,
   "metadata": {},
   "outputs": [
    {
     "data": {
      "text/plain": [
       "{'HOCO+': <Quantity [0., 0., 0., ..., 0., 0., 0.] K>}"
      ]
     },
     "execution_count": 30,
     "metadata": {},
     "output_type": "execute_result"
    }
   ],
   "source": [
    "# assume L483 abundance\n",
    "\n",
    "N = {\"HOCO+\": 3.1e13}\n",
    "\n",
    "Tex = 10\n",
    "DeltaV = 0.5\n",
    "\n",
    "# beam = 0.5 * u.arcsec # in arcsec\n",
    "# source_size = 0.7 * u.arcsec # in arcsec\n",
    "# f = source_size ** 2 / (source_size ** 2 + beam ** 2)\n",
    "# beam_area = np.pi / (4 * np.log(2)) * beam ** 2\n",
    "\n",
    "f = 1\n",
    "\n",
    "# axis\n",
    "nu_min = nu_range[0].value*1e9\n",
    "nu_max = nu_range[1].value*1e9\n",
    "dnu = nu_min / ckms * DeltaV / 5.0\n",
    "nu = np.arange(nu_min, nu_max, dnu)\n",
    "\n",
    "I_all = {}\n",
    "tau_all = {}\n",
    "for s in specie:\n",
    "    I_all_s = 0\n",
    "    tau_all_s = 0\n",
    "    for trans in line_query[s]:\n",
    "        I, t = LTEmodel(\n",
    "            nu=nu,\n",
    "            nu0=trans[\"nu0 [GHz]\"] * 1e9,\n",
    "            g_u=trans[\"g_u\"],\n",
    "            E_u=trans[\"E_u [K]\"],\n",
    "            A_ul=10 ** trans[\"logA [s^-1]\"],\n",
    "            N=N[s],\n",
    "            Tex=Tex,\n",
    "            DeltaV=DeltaV,\n",
    "            f=f,\n",
    "            Q=pf[s](Tex),\n",
    "        )\n",
    "\n",
    "        \n",
    "\n",
    "        I_all_s += I.to(u.Jy/u.sr)\n",
    "        tau_all_s += t\n",
    "    # I_all[s] = I_all_s.to(u.mJy/u.beam, equivalencies=u.beam_angular_area(beam_area))\n",
    "    I_all[s] = I_all_s.to(u.K, equivalencies=u.brightness_temperature(nu*u.Hz))\n",
    "    tau_all[s] = tau_all_s\n",
    "I_all"
   ]
  },
  {
   "cell_type": "code",
   "execution_count": 33,
   "metadata": {},
   "outputs": [
    {
     "data": {
      "image/png": "[encoded data removed]",
      "text/plain": [
       "<Figure size 432x576 with 2 Axes>"
      ]
     },
     "metadata": {
      "needs_background": "light"
     },
     "output_type": "display_data"
    }
   ],
   "source": [
    "import matplotlib.pyplot as plt\n",
    "from matplotlib import ticker\n",
    "\n",
    "plt.rcParams['font.size'] = 13\n",
    "\n",
    "fig, ax = plt.subplots(2, 1, figsize=(6, 8), sharex=True)\n",
    "\n",
    "xlim = (85.53, 85.533)\n",
    "#xlim = (306, 306.1)\n",
    "color = {'NH3': 'tab:blue',\n",
    "         'NH2D': 'tab:orange',\n",
    "         'NHD2': 'tab:purple',\n",
    "         \"ND3\": \"tab:green\"}\n",
    "\n",
    "label = {'HOCO+': 'HOCO$^+$'}\n",
    "\n",
    "for s in specie:\n",
    "    # intenisty\n",
    "    ax[0].plot(nu*1e-9, I_all[s], label=label[s])\n",
    "    ax[0].grid()\n",
    "    ax[0].set(xlim=xlim, ylim=(0, 0.5), ylabel=r'$I$ [mJy / beam]')\n",
    "    #ax[0].xaxis.set_major_locator(ticker.MultipleLocator(1.0))\n",
    "    #ax[0].yaxis.set_minor_locator(ticker.MultipleLocator(1.0))\n",
    "    ax[0].legend()\n",
    "    \n",
    "    # tau\n",
    "    ax[1].plot(nu*1e-9, tau_all[s])\n",
    "    ax[1].grid()\n",
    "    ax[1].axhline(y=1.0, color='black', ls='--', lw=1.0)\n",
    "    ax[1].set(xlim=xlim, xlabel=r'$\\nu_0$ [GHz]', ylabel=r'$\\tau_0$', yscale='log', ylim=(1e-5, 5e3))\n",
    "\n",
    "plt.subplots_adjust(hspace=0.1)"
   ]
  },
  {
   "cell_type": "code",
   "execution_count": 11,
   "metadata": {},
   "outputs": [
    {
     "data": {
      "text/latex": [
       "$0.0057648545 \\; \\mathrm{\\frac{mJy}{beam}}$"
      ],
      "text/plain": [
       "<Quantity 0.00576485 mJy / beam>"
      ]
     },
     "execution_count": 11,
     "metadata": {},
     "output_type": "execute_result"
    }
   ],
   "source": [
    "np.max(I_all[\"HOCO+\"])"
   ]
  },
  {
   "cell_type": "code",
   "execution_count": 98,
   "metadata": {},
   "outputs": [
    {
     "name": "stdout",
     "output_type": "stream",
     "text": [
      "199.4215764187394\n",
      "1139501314676.2205 1 / cm2\n",
      "0.07405942528305316\n"
     ]
    },
    {
     "data": {
      "text/latex": [
       "$3.5691746 \\; \\mathrm{K}$"
      ],
      "text/plain": [
       "<Quantity 3.56917455 K>"
      ]
     },
     "execution_count": 98,
     "metadata": {},
     "output_type": "execute_result"
    }
   ],
   "source": [
    "nu = 85.5315 * u.GHz\n",
    "A_ul = 0.0000235964 / u.s\n",
    "g_u = 9\n",
    "E_u = 10.26 * u.K\n",
    "DeltaV = 0.5 * u.km/u.s\n",
    "\n",
    "import astropy.constants as ac\n",
    "\n",
    "ckms = ac.c.to(u.cm/u.s)\n",
    "ccms = ac.c.to(u.km/u.s)\n",
    "c = ac.c\n",
    "h = ac.h\n",
    "k = ac.k_B\n",
    "\n",
    "Tex = 50 * u.K\n",
    "\n",
    "Q = pf[s](Tex)\n",
    "\n",
    "N = 3.1e13 / u.cm**2\n",
    "\n",
    "print(Q)\n",
    "\n",
    "Deltanu = nu / c * DeltaV\n",
    "phi = np.sqrt(4 * np.log(2) / np.pi) / Deltanu\n",
    "\n",
    "N_u = N / Q * g_u * np.exp(-E_u / Tex)\n",
    "print(N_u)\n",
    "\n",
    "tau = (\n",
    "    c ** 2\n",
    "    / (8 * np.pi * nu ** 2)\n",
    "    * (np.exp(h * nu / (k * Tex)) - 1.0)\n",
    "    * A_ul\n",
    "    * phi\n",
    "    * N_u\n",
    ")\n",
    "print(tau.decompose())\n",
    "\n",
    "Tex * (1 - np.exp(-tau))"
   ]
  },
  {
   "cell_type": "code",
   "execution_count": 69,
   "metadata": {},
   "outputs": [
    {
     "data": {
      "text/plain": [
       "1.7500000000000002"
      ]
     },
     "execution_count": 69,
     "metadata": {},
     "output_type": "execute_result"
    }
   ],
   "source": [
    "50 * 0.035"
   ]
  },
  {
   "cell_type": "code",
   "execution_count": 64,
   "metadata": {},
   "outputs": [
    {
     "data": {
      "text/plain": [
       "1.2945534903849694e-05"
      ]
     },
     "execution_count": 64,
     "metadata": {},
     "output_type": "execute_result"
    }
   ],
   "source": [
    "10**(-4.88788)"
   ]
  },
  {
   "cell_type": "code",
   "execution_count": 88,
   "metadata": {},
   "outputs": [
    {
     "data": {
      "text/latex": [
       "$9.5984861 \\; \\mathrm{K}$"
      ],
      "text/plain": [
       "<Quantity 9.59848615 K>"
      ]
     },
     "execution_count": 88,
     "metadata": {},
     "output_type": "execute_result"
    }
   ],
   "source": [
    "(h*200*u.GHz/k).to(u.K)"
   ]
  },
  {
   "cell_type": "code",
   "execution_count": 93,
   "metadata": {},
   "outputs": [
    {
     "data": {
      "text/latex": [
       "$0.2780083 \\; \\mathrm{}$"
      ],
      "text/plain": [
       "<Quantity 0.2780083>"
      ]
     },
     "execution_count": 93,
     "metadata": {},
     "output_type": "execute_result"
    }
   ],
   "source": [
    "np.exp(h * nu / (k * 50*u.K)) - 1.0"
   ]
  },
  {
   "cell_type": "code",
   "execution_count": null,
   "metadata": {},
   "outputs": [],
   "source": []
  }
 ],
 "metadata": {
  "interpreter": {
   "hash": "c76dbff751ee8af7d35e84c041870fbc9f925b937d12682ed826ce189d4dba72"
  },
  "kernelspec": {
   "display_name": "Python 3.8.12 ('cycle9-deuterated-ammonia-eL_QLELK-py3.8')",
   "language": "python",
   "name": "python3"
  },
  "language_info": {
   "codemirror_mode": {
    "name": "ipython",
    "version": 3
   },
   "file_extension": ".py",
   "mimetype": "text/x-python",
   "name": "python",
   "nbconvert_exporter": "python",
   "pygments_lexer": "ipython3",
   "version": "3.10.2"
  },
  "orig_nbformat": 4
 },
 "nbformat": 4,
 "nbformat_minor": 2
}
